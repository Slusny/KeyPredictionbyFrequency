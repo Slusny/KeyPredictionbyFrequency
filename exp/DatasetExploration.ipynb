{
 "cells": [
  {
   "cell_type": "code",
   "execution_count": 2,
   "id": "cad200e4",
   "metadata": {},
   "outputs": [],
   "source": [
    "import sys, os\n",
    "import pandas as pd\n",
    "import matplotlib.pyplot as plt\n",
    "import numpy as np\n",
    "pd.set_option('display.max_rows', 500)\n",
    "pd.set_option('display.max_columns', 500)\n",
    "pd.set_option('display.max_colwidth', 60)\n",
    "base_path = os.path.join(os.path.abspath(''), os.path.pardir)\n",
    "if (not (base_path in sys.path)):\n",
    "    sys.path.append(base_path)"
   ]
  },
  {
   "cell_type": "code",
   "execution_count": 6,
   "id": "41a0b43a",
   "metadata": {},
   "outputs": [],
   "source": [
    "#from tueplots import bundles\n",
    "# global change:\n",
    "#plt.rcParams.update(bundles.neurips2021(usetex=False))"
   ]
  },
  {
   "cell_type": "code",
   "execution_count": 1,
   "id": "f4e2f539",
   "metadata": {},
   "outputs": [
    {
     "ename": "NameError",
     "evalue": "name 'pd' is not defined",
     "output_type": "error",
     "traceback": [
      "\u001b[1;31m---------------------------------------------------------------------------\u001b[0m",
      "\u001b[1;31mNameError\u001b[0m                                 Traceback (most recent call last)",
      "\u001b[1;32m~\\AppData\\Local\\Temp/ipykernel_8344/3815735359.py\u001b[0m in \u001b[0;36m<module>\u001b[1;34m\u001b[0m\n\u001b[0;32m      1\u001b[0m \u001b[0mdataset_name\u001b[0m \u001b[1;33m=\u001b[0m \u001b[1;34m'huge_playlist'\u001b[0m\u001b[1;33m\u001b[0m\u001b[1;33m\u001b[0m\u001b[0m\n\u001b[1;32m----> 2\u001b[1;33m \u001b[0mdf\u001b[0m \u001b[1;33m=\u001b[0m \u001b[0mpd\u001b[0m\u001b[1;33m.\u001b[0m\u001b[0mread_pickle\u001b[0m\u001b[1;33m(\u001b[0m\u001b[0mbase_path\u001b[0m\u001b[1;33m+\u001b[0m\u001b[1;34mf'/data/{dataset_name}/dataset.pkl'\u001b[0m\u001b[1;33m)\u001b[0m\u001b[1;33m\u001b[0m\u001b[1;33m\u001b[0m\u001b[0m\n\u001b[0m\u001b[0;32m      3\u001b[0m \u001b[0mdf\u001b[0m \u001b[1;33m=\u001b[0m \u001b[0mdf\u001b[0m\u001b[1;33m[\u001b[0m\u001b[0mdf\u001b[0m\u001b[1;33m.\u001b[0m\u001b[0mkey_confidence\u001b[0m\u001b[1;33m>\u001b[0m\u001b[1;36m0.5\u001b[0m\u001b[1;33m]\u001b[0m\u001b[1;33m\u001b[0m\u001b[1;33m\u001b[0m\u001b[0m\n\u001b[0;32m      4\u001b[0m \u001b[0mprint\u001b[0m\u001b[1;33m(\u001b[0m\u001b[0mdf\u001b[0m\u001b[1;33m.\u001b[0m\u001b[0mshape\u001b[0m\u001b[1;33m)\u001b[0m\u001b[1;33m\u001b[0m\u001b[1;33m\u001b[0m\u001b[0m\n\u001b[0;32m      5\u001b[0m \u001b[1;31m#df.sort_values(by='key_confidence').head(30)[['song_name', 'key', 'key_confidence', 'mode', 'URL', 'file_path']]\u001b[0m\u001b[1;33m\u001b[0m\u001b[1;33m\u001b[0m\u001b[0m\n",
      "\u001b[1;31mNameError\u001b[0m: name 'pd' is not defined"
     ]
    }
   ],
   "source": [
    "dataset_name = 'huge_playlist'\n",
    "df = pd.read_pickle(base_path+f'/data/{dataset_name}/dataset.pkl')\n",
    "df = df[df.key_confidence>0.5]\n",
    "print(df.shape)\n",
    "#df.sort_values(by='key_confidence').head(30)[['song_name', 'key', 'key_confidence', 'mode', 'URL', 'file_path']]\n",
    "#plt.hist(df['key'])\n",
    "#print(df['key'].value_counts().sort_index())\n",
    "keys = ['C', 'C#', 'D', 'D#', 'E', 'F', 'F#', 'G', 'G#', 'A', 'A#', 'B']\n",
    "fig, axs = plt.subplots(2,2, figsize=(14,10))\n",
    "axs[0,0].bar(range(12), df['key'].value_counts().sort_index(), align='center', width=0.8, tick_label=keys)\n",
    "axs[0,0].set_title('Key')\n",
    "\n",
    "axs[1,0].hist(df['key_confidence'], bins=20, rwidth=0.8)\n",
    "axs[1,0].set_xticks(np.arange(0.5,1.05,0.1))\n",
    "#axs[1,0].set_xticks(np.arange(0,1.05,0.1))\n",
    "axs[1,0].set_title('Key confidence')\n",
    "\n",
    "axs[0,1].bar(range(2), df['mode'].value_counts().sort_index(), align='center', width=0.8, tick_label=['Minor', 'Major'])\n",
    "axs[0,1].set_title('Mode')\n",
    "\n",
    "axs[1,1].hist(df['mode_confidence'], bins=20, rwidth=0.8)\n",
    "axs[1,1].set_xticks(np.arange(0,1.1,0.1))\n",
    "axs[1,1].set_title('Mode confidence')\n",
    "\n",
    "for ax in axs.flatten():\n",
    "    ax.spines['top'].set_visible(False)\n",
    "    ax.spines['right'].set_visible(False)\n",
    "    ax.spines['left'].set_visible(False)\n",
    "    ax.spines['bottom'].set_color('#999999')\n",
    "\n",
    "    # Second, remove the ticks as well.\n",
    "    ax.tick_params(bottom=False, left=False)\n",
    "\n",
    "    # Third, add a horizontal grid (but keep the vertical grid hidden).\n",
    "    # Color the lines a light gray as well.\n",
    "    ax.set_axisbelow(True)\n",
    "    ax.yaxis.grid(True, color='#999999')\n",
    "    ax.xaxis.grid(False)\n",
    "plt.savefig(f'../figures/{dataset_name}_highconv_key_mode_stats.pdf')"
   ]
  }
 ],
 "metadata": {
  "kernelspec": {
   "display_name": "Python 3 (ipykernel)",
   "language": "python",
   "name": "python3"
  },
  "language_info": {
   "codemirror_mode": {
    "name": "ipython",
    "version": 3
   },
   "file_extension": ".py",
   "mimetype": "text/x-python",
   "name": "python",
   "nbconvert_exporter": "python",
   "pygments_lexer": "ipython3",
   "version": "3.9.7"
  }
 },
 "nbformat": 4,
 "nbformat_minor": 5
}
