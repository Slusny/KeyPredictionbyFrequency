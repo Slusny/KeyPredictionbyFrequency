{
 "cells": [
  {
   "cell_type": "code",
   "execution_count": 1,
   "id": "60d40b59",
   "metadata": {},
   "outputs": [],
   "source": [
    "import pandas as pd\n",
    "import matplotlib.pyplot as plt\n",
    "import numpy as np\n",
    "import ast\n",
    "pd.set_option('display.max_rows', 500)\n",
    "pd.set_option('display.max_columns', 500)\n",
    "pd.set_option('display.width', 200)\n",
    "pd.set_option('display.max_colwidth', 200)"
   ]
  },
  {
   "cell_type": "code",
   "execution_count": 2,
   "id": "fed27150",
   "metadata": {},
   "outputs": [],
   "source": [
    "df = pd.read_csv('../data/piano/dataset_abs.csv', index_col=0)"
   ]
  },
  {
   "cell_type": "code",
   "execution_count": 12,
   "id": "ea1266fd",
   "metadata": {},
   "outputs": [
    {
     "name": "stdout",
     "output_type": "stream",
     "text": [
      "(570, 30026)\n",
      "(570, 30001)\n"
     ]
    }
   ],
   "source": [
    "# kick out na entries and create df with only fourier spectrum as columns\n",
    "\n",
    "def is_number(s):\n",
    "    try:\n",
    "        float(s)\n",
    "        return True\n",
    "    except ValueError:\n",
    "        return False\n",
    "    \n",
    "is_number = [is_number(el) for el in df.columns]\n",
    "fourier_cols = df.columns[is_number]\n",
    "df = df[~df[fourier_cols[0]].isna()]\n",
    "df = df[df['key_confidence'] > 0.5].reset_index(drop=True)\n",
    "fourier_df = df[fourier_cols]\n",
    "print(df.shape)\n",
    "print(fourier_df.shape)"
   ]
  },
  {
   "cell_type": "code",
   "execution_count": 22,
   "id": "76235e4a",
   "metadata": {
    "scrolled": false
   },
   "outputs": [
    {
     "data": {
      "image/png": "[encoded data removed]",
      "text/plain": [
       "<Figure size 432x288 with 1 Axes>"
      ]
     },
     "metadata": {
      "needs_background": "light"
     },
     "output_type": "display_data"
    },
    {
     "name": "stdout",
     "output_type": "stream",
     "text": [
      "Song name: Song for Sienna\n",
      "Key: 7\n",
      "Max frequency: 219.36666666666667\n"
     ]
    }
   ],
   "source": [
    "sample_number = 10\n",
    "spectrum = fourier_df.iloc[sample_number, :]\n",
    "plt.plot(fourier_cols, spectrum)\n",
    "plt.tick_params(axis='x', which='both', bottom=False, labelbottom=False)\n",
    "plt.show()\n",
    "\n",
    "key = df['key'][sample_number]\n",
    "name = df['song_name'][sample_number]\n",
    "max_f = fourier_cols[spectrum.argmax()]\n",
    "print(f'Song name: {name}')\n",
    "print(f'Key: {key}')\n",
    "print(f'Max frequency: {max_f}')"
   ]
  },
  {
   "cell_type": "code",
   "execution_count": 33,
   "id": "0e315e34",
   "metadata": {},
   "outputs": [],
   "source": [
    "# Transform all keys to the relative major key\n",
    "def modify_keys(df):\n",
    "    df['key_modified'] = [(df['key'][index]+3) % 12 if mode==0 else df['key'][index] for index, mode in df['mode'].iteritems()]\n",
    "\n",
    "    \n",
    "# combine mode and key to one combined key_mode value\n",
    "def combine_keys_and_modes(df):\n",
    "    df['key_mode_combined'] = list(zip(df['key'], df['mode']))\n",
    "    df['key_mode_combined'] = df['key_mode_combined'].apply(lambda x: x[0]+12 if x[1]==1 else x[0])\n",
    "    \n",
    "    \n",
    "combine_keys_and_modes(df)    \n",
    "modify_keys(df)"
   ]
  },
  {
   "cell_type": "code",
   "execution_count": 35,
   "id": "2c80589d",
   "metadata": {},
   "outputs": [
    {
     "name": "stdout",
     "output_type": "stream",
     "text": [
      "Starting CV...\n"
     ]
    },
    {
     "name": "stderr",
     "output_type": "stream",
     "text": [
      "D:\\Uni Master\\Data Literacy\\Project\\spotipy-env\\lib\\site-packages\\sklearn\\model_selection\\_split.py:676: UserWarning: The least populated class in y has only 4 members, which is less than n_splits=10.\n",
      "  warnings.warn(\n",
      "D:\\Uni Master\\Data Literacy\\Project\\spotipy-env\\lib\\site-packages\\sklearn\\model_selection\\_split.py:676: UserWarning: The least populated class in y has only 4 members, which is less than n_splits=10.\n",
      "  warnings.warn(\n",
      "D:\\Uni Master\\Data Literacy\\Project\\spotipy-env\\lib\\site-packages\\sklearn\\model_selection\\_split.py:676: UserWarning: The least populated class in y has only 4 members, which is less than n_splits=10.\n",
      "  warnings.warn(\n"
     ]
    },
    {
     "name": "stdout",
     "output_type": "stream",
     "text": [
      "Mean Accuracy: 0.423 (0.047)\n"
     ]
    }
   ],
   "source": [
    "from sklearn.linear_model import LogisticRegression\n",
    "from sklearn.model_selection import train_test_split\n",
    "from sklearn.model_selection import RepeatedStratifiedKFold\n",
    "from sklearn.model_selection import cross_val_score\n",
    "\n",
    "X = fourier_df\n",
    "y = df['key_mode_combined']\n",
    "\n",
    "#X_train, X_test, y_train, y_test = train_test_split(X, y, test_size=0.2, random_state=42)\n",
    "clf = LogisticRegression(random_state=0, multi_class='ovr')\n",
    "print('Starting CV...')\n",
    "cv = RepeatedStratifiedKFold(n_splits=10, n_repeats=3, random_state=1)\n",
    "# evaluate the model and collect the scores\n",
    "n_scores = cross_val_score(clf, X, y, scoring='accuracy', cv=cv, n_jobs=-1)\n",
    "# report the model performance\n",
    "print('Mean Accuracy: %.3f (%.3f)' % (np.mean(n_scores), np.std(n_scores)))"
   ]
  },
  {
   "cell_type": "code",
   "execution_count": 21,
   "id": "63e47f65",
   "metadata": {},
   "outputs": [
    {
     "name": "stdout",
     "output_type": "stream",
     "text": [
      "Mean Accuracy: 0.468 (0.074)\n"
     ]
    }
   ],
   "source": [
    "print('Mean Accuracy: %.3f (%.3f)' % (np.mean(n_scores), np.std(n_scores)))"
   ]
  },
  {
   "cell_type": "code",
   "execution_count": null,
   "id": "758c0900",
   "metadata": {},
   "outputs": [],
   "source": [
    "df.info()"
   ]
  }
 ],
 "metadata": {
  "kernelspec": {
   "display_name": "Python 3 (ipykernel)",
   "language": "python",
   "name": "python3"
  },
  "language_info": {
   "codemirror_mode": {
    "name": "ipython",
    "version": 3
   },
   "file_extension": ".py",
   "mimetype": "text/x-python",
   "name": "python",
   "nbconvert_exporter": "python",
   "pygments_lexer": "ipython3",
   "version": "3.9.7"
  }
 },
 "nbformat": 4,
 "nbformat_minor": 5
}
