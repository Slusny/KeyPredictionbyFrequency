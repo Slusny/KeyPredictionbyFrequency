{
 "cells": [
  {
   "cell_type": "code",
   "execution_count": 1,
   "id": "60d40b59",
   "metadata": {},
   "outputs": [],
   "source": [
    "import pandas as pd\n",
    "import matplotlib.pyplot as plt\n",
    "import numpy as np\n",
    "import ast\n",
    "pd.set_option('display.max_rows', 500)\n",
    "pd.set_option('display.max_columns', 500)\n",
    "pd.set_option('display.width', 200)\n",
    "pd.set_option('display.max_colwidth', 200)"
   ]
  },
  {
   "cell_type": "code",
   "execution_count": 9,
   "id": "fed27150",
   "metadata": {},
   "outputs": [],
   "source": [
    "df = pd.read_csv('../data/piano/dataset_abs.csv', index_col=0)"
   ]
  },
  {
   "cell_type": "code",
   "execution_count": 12,
   "id": "ea1266fd",
   "metadata": {},
   "outputs": [
    {
     "name": "stdout",
     "output_type": "stream",
     "text": [
      "Index(['URL', 'key', 'key_confidence', 'mode', 'mode_confidence', 'tempo', 'tempo_confidence', 'danceability', 'energy', 'loudness', 'speechiness', 'acousticness', 'instrumentalness', 'liveness',\n",
      "       'valence', 'type', 'id', 'uri', 'track_href', 'analysis_url', 'duration_ms', 'time_signature', 'song_name', 'popularity', 'file_path', '0.0', '0.03333333333333333', '0.06666666666666667',\n",
      "       '0.1', '0.13333333333333333'],\n",
      "      dtype='object')\n"
     ]
    }
   ],
   "source": [
    "print(df.columns[:30])"
   ]
  },
  {
   "cell_type": "code",
   "execution_count": 16,
   "id": "2c80589d",
   "metadata": {},
   "outputs": [
    {
     "data": {
      "text/plain": [
       "(array([2.9401e+04, 4.6200e+02, 7.4000e+01, 3.2000e+01, 1.7000e+01,\n",
       "        8.0000e+00, 3.0000e+00, 2.0000e+00, 1.0000e+00, 1.0000e+00]),\n",
       " array([4.76015460e+02, 1.88078430e+06, 3.76109258e+06, 5.64140087e+06,\n",
       "        7.52170915e+06, 9.40201743e+06, 1.12823257e+07, 1.31626340e+07,\n",
       "        1.50429423e+07, 1.69232506e+07, 1.88035589e+07]),\n",
       " <BarContainer object of 10 artists>)"
      ]
     },
     "execution_count": 16,
     "metadata": {},
     "output_type": "execute_result"
    },
    {
     "data": {
      "image/png": "[encoded data removed]",
      "text/plain": [
       "<Figure size 432x288 with 1 Axes>"
      ]
     },
     "metadata": {
      "needs_background": "light"
     },
     "output_type": "display_data"
    }
   ],
   "source": [
    "\n",
    "#df['spectrum'].apply(lambda x: len(x))\n",
    "#spec = np.abs(df['spectrum'][0].to_numpy())\n",
    "#plt.hist(spec)\n",
    "#plt.show()\n",
    "\n",
    "#df['spec_list'] = df.spectrum.apply(lambda x: ast.literal_eval(x))\n",
    "#series = df.spectrum[:10].apply(lambda x: ast.literal_eval(x))\n",
    "#series = series.apply(lambda x: np.abs(np.array(x)))\n",
    "#plt.hist(series[0])"
   ]
  },
  {
   "cell_type": "code",
   "execution_count": 9,
   "id": "758c0900",
   "metadata": {},
   "outputs": [
    {
     "name": "stdout",
     "output_type": "stream",
     "text": [
      "<class 'pandas.core.frame.DataFrame'>\n",
      "RangeIndex: 961 entries, 0 to 960\n",
      "Data columns (total 28 columns):\n",
      " #   Column            Non-Null Count  Dtype  \n",
      "---  ------            --------------  -----  \n",
      " 0   Unnamed: 0        961 non-null    int64  \n",
      " 1   URL               961 non-null    object \n",
      " 2   key               961 non-null    int64  \n",
      " 3   key_confidence    961 non-null    float64\n",
      " 4   mode              961 non-null    int64  \n",
      " 5   mode_confidence   961 non-null    float64\n",
      " 6   tempo             961 non-null    float64\n",
      " 7   tempo_confidence  961 non-null    float64\n",
      " 8   danceability      961 non-null    float64\n",
      " 9   energy            961 non-null    float64\n",
      " 10  loudness          961 non-null    float64\n",
      " 11  speechiness       961 non-null    float64\n",
      " 12  acousticness      961 non-null    float64\n",
      " 13  instrumentalness  961 non-null    float64\n",
      " 14  liveness          961 non-null    float64\n",
      " 15  valence           961 non-null    float64\n",
      " 16  type              961 non-null    object \n",
      " 17  id                961 non-null    object \n",
      " 18  uri               961 non-null    object \n",
      " 19  track_href        961 non-null    object \n",
      " 20  analysis_url      961 non-null    object \n",
      " 21  duration_ms       961 non-null    int64  \n",
      " 22  time_signature    961 non-null    int64  \n",
      " 23  song_name         961 non-null    object \n",
      " 24  popularity        961 non-null    int64  \n",
      " 25  file_path         961 non-null    object \n",
      " 26  spectrum          961 non-null    object \n",
      " 27  spec_list         10 non-null     object \n",
      "dtypes: float64(12), int64(6), object(10)\n",
      "memory usage: 210.3+ KB\n"
     ]
    }
   ],
   "source": [
    "df.info()"
   ]
  }
 ],
 "metadata": {
  "kernelspec": {
   "display_name": "Python 3 (ipykernel)",
   "language": "python",
   "name": "python3"
  },
  "language_info": {
   "codemirror_mode": {
    "name": "ipython",
    "version": 3
   },
   "file_extension": ".py",
   "mimetype": "text/x-python",
   "name": "python",
   "nbconvert_exporter": "python",
   "pygments_lexer": "ipython3",
   "version": "3.9.7"
  }
 },
 "nbformat": 4,
 "nbformat_minor": 5
}
